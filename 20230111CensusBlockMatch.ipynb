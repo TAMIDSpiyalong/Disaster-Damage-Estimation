{
 "cells": [
  {
   "cell_type": "markdown",
   "id": "02ddce1e-3b00-40ab-994d-af9698d42c6a",
   "metadata": {},
   "source": [
    "# Matching FEMA and social media data based on location"
   ]
  },
  {
   "cell_type": "markdown",
   "id": "b3a048d4-ad88-436c-9e2a-b13799f7d079",
   "metadata": {},
   "source": [
    "This jupyuter file is to load and visualize the FEMA and social media data with the same location, i.e., census block ID. The second part will build  the old simpel neural network and use the paired inputs and labels to train.\n",
    "\n",
    "The data looks a lot but we only need a few columns.\n",
    "1. We use the 'rpfvl' (Real property damage amount observed by FEMA) values and 'ppfvl' (FEMA Verified Loss captured during inspection of personal property) from the FEMA csv file. This is the labels. \n",
    "2. We need the 'censusBlockId' in FEMA and the derived 'GEOID10' using tweet point tags. Only 1-2% percent of tweets have location information. This data is used to match/pair inputs (tweet) and labels (damage). \n",
    "3. Tweets are collected using its API.\n",
    "4. Model is simple. Note that we are still looking for a good vectorizer. The current HashingVectorizer is not the best because it produces mostly zeros. "
   ]
  },
  {
   "cell_type": "code",
   "execution_count": 1,
   "id": "f2c7dd85-aa27-4735-8a07-9c9e90190223",
   "metadata": {},
   "outputs": [],
   "source": [
    "import requests\n",
    "import pandas as pd"
   ]
  },
  {
   "cell_type": "markdown",
   "id": "3b89e3b6-a813-485b-9ad6-516aa3a54fde",
   "metadata": {},
   "source": [
    "# OpenFEMA Dataset: Individual Assistance Housing Registrants - Large Disasters - v1"
   ]
  },
  {
   "cell_type": "code",
   "execution_count": 2,
   "id": "c3d71e48-6d76-4005-b28c-6989fc6c03ca",
   "metadata": {},
   "outputs": [],
   "source": [
    "iahrld = pd.read_csv('C:/Users/piyalong/Microsoft AI for humanitarian/IndividualAssistanceHousingRegistrantsLargeDisasters (1).csv')"
   ]
  },
  {
   "cell_type": "code",
   "execution_count": 3,
   "id": "9a39006c-a57f-4dfb-9a8d-b5f577ca68fc",
   "metadata": {},
   "outputs": [
    {
     "data": {
      "text/plain": [
       "True"
      ]
     },
     "execution_count": 3,
     "metadata": {},
     "output_type": "execute_result"
    }
   ],
   "source": [
    "'censusBlockId' in iahrld.columns"
   ]
  },
  {
   "cell_type": "code",
   "execution_count": 4,
   "id": "34e4821b-928a-46c8-b4af-3d15cdec3e60",
   "metadata": {},
   "outputs": [
    {
     "data": {
      "text/plain": [
       "True"
      ]
     },
     "execution_count": 4,
     "metadata": {},
     "output_type": "execute_result"
    }
   ],
   "source": [
    "'rpfvl' in iahrld.columns"
   ]
  },
  {
   "cell_type": "code",
   "execution_count": 5,
   "id": "11658f55-94b5-4bc2-8880-e17226063f1f",
   "metadata": {},
   "outputs": [
    {
     "data": {
      "text/plain": [
       "True"
      ]
     },
     "execution_count": 5,
     "metadata": {},
     "output_type": "execute_result"
    }
   ],
   "source": [
    "'ppfvl' in iahrld.columns"
   ]
  },
  {
   "cell_type": "code",
   "execution_count": 6,
   "id": "4fd107c6-6582-409a-bec6-9ed7081ca654",
   "metadata": {},
   "outputs": [
    {
     "data": {
      "text/plain": [
       "Index(['disasterNumber', 'damagedCity', 'damagedStateAbbreviation',\n",
       "       'damagedZipCode', 'householdComposition', 'grossIncome', 'specialNeeds',\n",
       "       'ownRent', 'residenceType', 'homeOwnersInsurance', 'floodInsurance',\n",
       "       'inspected', 'rpfvl', 'habitabilityRepairsRequired', 'destroyed',\n",
       "       'waterLevel', 'floodDamage', 'foundationDamage',\n",
       "       'foundationDamageAmount', 'roofDamage', 'roofDamageAmount',\n",
       "       'tsaEligible', 'tsaCheckedIn', 'rentalAssistanceEligible',\n",
       "       'rentalAssistanceAmount', 'repairAssistanceEligible', 'repairAmount',\n",
       "       'replacementAssistanceEligible', 'replacementAmount', 'sbaEligible',\n",
       "       'renterDamageLevel', 'rentalAssistanceEndDate', 'rentalResourceCity',\n",
       "       'rentalResourceStateAbbreviation', 'rentalResourceZipCode',\n",
       "       'primaryResidence', 'personalPropertyEligible', 'ppfvl',\n",
       "       'censusBlockId', 'censusYear', 'id'],\n",
       "      dtype='object')"
      ]
     },
     "execution_count": 6,
     "metadata": {},
     "output_type": "execute_result"
    }
   ],
   "source": [
    "iahrld.columns"
   ]
  },
  {
   "cell_type": "code",
   "execution_count": 7,
   "id": "408b95d6-c9df-4ba8-8e15-1352d4f09492",
   "metadata": {},
   "outputs": [
    {
     "data": {
      "text/plain": [
       "0          4337\n",
       "1          4339\n",
       "2          4332\n",
       "3          4337\n",
       "4          4337\n",
       "           ... \n",
       "5550058    4337\n",
       "5550059    4337\n",
       "5550060    4337\n",
       "5550061    4339\n",
       "5550062    4586\n",
       "Name: disasterNumber, Length: 5550063, dtype: int64"
      ]
     },
     "execution_count": 7,
     "metadata": {},
     "output_type": "execute_result"
    }
   ],
   "source": [
    "iahrld.disasterNumber"
   ]
  },
  {
   "cell_type": "code",
   "execution_count": null,
   "id": "509d3ca2-1f2b-4bd3-9a07-3db74b7be65b",
   "metadata": {},
   "outputs": [],
   "source": []
  },
  {
   "cell_type": "markdown",
   "id": "2af6fccf-9f36-4a5c-bb04-df022e0c413a",
   "metadata": {},
   "source": [
    "The FEMA disaster index for hurricane Harvey is 4332  hence we use it. Next we group the records by location, i.e., censusblockID. This is done for both fema and social media data."
   ]
  },
  {
   "cell_type": "code",
   "execution_count": 8,
   "id": "5c82b170-d502-42db-b2ba-494bee3d14b7",
   "metadata": {},
   "outputs": [
    {
     "name": "stdout",
     "output_type": "stream",
     "text": [
      "Total records: 895636 with unique census ID: 88482\n"
     ]
    }
   ],
   "source": [
    "harvey_iahrld=iahrld[iahrld.disasterNumber==4332]\n",
    "harvey_iahrld\n",
    "print(\"Total records: {} with unique census ID: {}\".format(len(harvey_iahrld),len(harvey_iahrld.groupby('censusBlockId'))))"
   ]
  },
  {
   "cell_type": "code",
   "execution_count": 9,
   "id": "ae0e82f8-eea2-41b1-8ddd-062526444dda",
   "metadata": {},
   "outputs": [],
   "source": [
    "FEMA_grouped=harvey_iahrld.groupby('censusBlockId')"
   ]
  },
  {
   "cell_type": "code",
   "execution_count": 10,
   "id": "884b56d3-6b6f-47cc-b71c-677178e1678f",
   "metadata": {},
   "outputs": [],
   "source": [
    "FEMA_ids = list(FEMA_grouped.groups.keys())"
   ]
  },
  {
   "cell_type": "code",
   "execution_count": 11,
   "id": "94798a5d-3b3c-414e-9233-433c37ffadb5",
   "metadata": {},
   "outputs": [
    {
     "data": {
      "text/plain": [
       "[60855033302006.0,\n",
       " 120110507023006.0,\n",
       " 120111104042001.0,\n",
       " 220039505004006.0,\n",
       " 220090301001034.0,\n",
       " 220190014004011.0,\n",
       " 220190036002067.0,\n",
       " 220239702012254.0,\n",
       " 220330037015017.0,\n",
       " 220330038043005.0]"
      ]
     },
     "execution_count": 11,
     "metadata": {},
     "output_type": "execute_result"
    }
   ],
   "source": [
    "FEMA_ids[:10]"
   ]
  },
  {
   "cell_type": "code",
   "execution_count": 12,
   "id": "f5837742-d1b5-4337-a61b-ac89811876a8",
   "metadata": {},
   "outputs": [
    {
     "data": {
      "text/plain": [
       "2             0.00\n",
       "24          935.73\n",
       "34            0.00\n",
       "42            0.00\n",
       "43            0.00\n",
       "            ...   \n",
       "5550026    1457.74\n",
       "5550027     834.79\n",
       "5550038       0.00\n",
       "5550048       0.00\n",
       "5550049       0.00\n",
       "Name: ppfvl, Length: 584156, dtype: float64"
      ]
     },
     "execution_count": 12,
     "metadata": {},
     "output_type": "execute_result"
    }
   ],
   "source": [
    "harvey_iahrld['ppfvl'].dropna()"
   ]
  },
  {
   "cell_type": "code",
   "execution_count": 13,
   "id": "ac518d76-8feb-46d3-9817-82305a9eb23c",
   "metadata": {},
   "outputs": [
    {
     "data": {
      "text/plain": [
       "24          7887.68\n",
       "42           804.18\n",
       "54             0.00\n",
       "65            20.72\n",
       "71           448.08\n",
       "             ...   \n",
       "5549773    13153.24\n",
       "5549863    23167.03\n",
       "5549960     5628.61\n",
       "5549977      579.56\n",
       "5550009     2830.20\n",
       "Name: rpfvl, Length: 213459, dtype: float64"
      ]
     },
     "execution_count": 13,
     "metadata": {},
     "output_type": "execute_result"
    }
   ],
   "source": [
    "harvey_iahrld['rpfvl'].dropna()"
   ]
  },
  {
   "cell_type": "code",
   "execution_count": null,
   "id": "97d57149-25d9-41a2-963c-89cfffe1801a",
   "metadata": {},
   "outputs": [],
   "source": []
  },
  {
   "cell_type": "markdown",
   "id": "0ac0d004-240f-4c9c-8eac-1d875f5411d7",
   "metadata": {},
   "source": [
    "# Read social media data"
   ]
  },
  {
   "cell_type": "code",
   "execution_count": 14,
   "id": "627db7a0-2f27-4242-b364-5beb8ffe26ee",
   "metadata": {},
   "outputs": [],
   "source": [
    "tweets=pd.read_csv('D:/20230413_Harvey_TX_twitter_point_with_blockid.csv')"
   ]
  },
  {
   "cell_type": "code",
   "execution_count": 15,
   "id": "a806cd63-9ae0-485b-86c8-48aac235b981",
   "metadata": {},
   "outputs": [
    {
     "data": {
      "text/plain": [
       "(15104, 27)"
      ]
     },
     "execution_count": 15,
     "metadata": {},
     "output_type": "execute_result"
    }
   ],
   "source": [
    "tweets.shape"
   ]
  },
  {
   "cell_type": "code",
   "execution_count": 16,
   "id": "4509a287-081a-4671-86ae-e4b2388d3561",
   "metadata": {},
   "outputs": [
    {
     "data": {
      "text/html": [
       "<div>\n",
       "<style scoped>\n",
       "    .dataframe tbody tr th:only-of-type {\n",
       "        vertical-align: middle;\n",
       "    }\n",
       "\n",
       "    .dataframe tbody tr th {\n",
       "        vertical-align: top;\n",
       "    }\n",
       "\n",
       "    .dataframe thead th {\n",
       "        text-align: right;\n",
       "    }\n",
       "</style>\n",
       "<table border=\"1\" class=\"dataframe\">\n",
       "  <thead>\n",
       "    <tr style=\"text-align: right;\">\n",
       "      <th></th>\n",
       "      <th>Unnamed: 0.2</th>\n",
       "      <th>Unnamed: 0</th>\n",
       "      <th>Unnamed: 0.1</th>\n",
       "      <th>Unnamed: 0.1.1</th>\n",
       "      <th>possibly_sensitive</th>\n",
       "      <th>lang</th>\n",
       "      <th>geo</th>\n",
       "      <th>conversation_id</th>\n",
       "      <th>author_id</th>\n",
       "      <th>public_metrics</th>\n",
       "      <th>...</th>\n",
       "      <th>text</th>\n",
       "      <th>id</th>\n",
       "      <th>place_id</th>\n",
       "      <th>place</th>\n",
       "      <th>place_coor</th>\n",
       "      <th>zipcode</th>\n",
       "      <th>interset</th>\n",
       "      <th>is_point</th>\n",
       "      <th>geometry</th>\n",
       "      <th>GEOID10</th>\n",
       "    </tr>\n",
       "  </thead>\n",
       "  <tbody>\n",
       "    <tr>\n",
       "      <th>0</th>\n",
       "      <td>1</td>\n",
       "      <td>1</td>\n",
       "      <td>1</td>\n",
       "      <td>1</td>\n",
       "      <td>False</td>\n",
       "      <td>en</td>\n",
       "      <td>{'place_id': '07d9ca6de0486000'}</td>\n",
       "      <td>9.084680e+17</td>\n",
       "      <td>2.828491e+09</td>\n",
       "      <td>{'retweet_count': 2, 'reply_count': 0, 'like_c...</td>\n",
       "      <td>...</td>\n",
       "      <td>Family and Faculty come together to recognize ...</td>\n",
       "      <td>9.084680e+17</td>\n",
       "      <td>07d9ca6de0486000</td>\n",
       "      <td>{'type': 'Feature', 'bbox': [-106.286140441894...</td>\n",
       "      <td>[-106.28614044189453, 31.637645721435547, -106...</td>\n",
       "      <td>79927.0</td>\n",
       "      <td>NaN</td>\n",
       "      <td>1</td>\n",
       "      <td>POINT (405251.63437970506 1069011.4891847298)</td>\n",
       "      <td>4.814101e+14</td>\n",
       "    </tr>\n",
       "    <tr>\n",
       "      <th>1</th>\n",
       "      <td>2</td>\n",
       "      <td>2</td>\n",
       "      <td>2</td>\n",
       "      <td>2</td>\n",
       "      <td>False</td>\n",
       "      <td>en</td>\n",
       "      <td>{'place_id': '07d9ca6de0486000'}</td>\n",
       "      <td>9.084680e+17</td>\n",
       "      <td>2.828491e+09</td>\n",
       "      <td>{'retweet_count': 3, 'reply_count': 0, 'like_c...</td>\n",
       "      <td>...</td>\n",
       "      <td>An awesome return of recognizing GOODER schola...</td>\n",
       "      <td>9.084680e+17</td>\n",
       "      <td>07d9ca6de0486000</td>\n",
       "      <td>{'type': 'Feature', 'bbox': [-106.286140441894...</td>\n",
       "      <td>[-106.28614044189453, 31.637645721435547, -106...</td>\n",
       "      <td>79927.0</td>\n",
       "      <td>NaN</td>\n",
       "      <td>1</td>\n",
       "      <td>POINT (405251.63437970506 1069011.4891847298)</td>\n",
       "      <td>4.814101e+14</td>\n",
       "    </tr>\n",
       "    <tr>\n",
       "      <th>2</th>\n",
       "      <td>3</td>\n",
       "      <td>4</td>\n",
       "      <td>4</td>\n",
       "      <td>4</td>\n",
       "      <td>False</td>\n",
       "      <td>en</td>\n",
       "      <td>{'place_id': '07d9ca6de0486000'}</td>\n",
       "      <td>9.084670e+17</td>\n",
       "      <td>2.828491e+09</td>\n",
       "      <td>{'retweet_count': 1, 'reply_count': 0, 'like_c...</td>\n",
       "      <td>...</td>\n",
       "      <td>Meet Mr. Alaniz one of the GOODER additions to...</td>\n",
       "      <td>9.084670e+17</td>\n",
       "      <td>07d9ca6de0486000</td>\n",
       "      <td>{'type': 'Feature', 'bbox': [-106.286140441894...</td>\n",
       "      <td>[-106.28614044189453, 31.637645721435547, -106...</td>\n",
       "      <td>79927.0</td>\n",
       "      <td>NaN</td>\n",
       "      <td>1</td>\n",
       "      <td>POINT (405251.63437970506 1069011.4891847298)</td>\n",
       "      <td>4.814101e+14</td>\n",
       "    </tr>\n",
       "    <tr>\n",
       "      <th>3</th>\n",
       "      <td>4</td>\n",
       "      <td>13</td>\n",
       "      <td>13</td>\n",
       "      <td>13</td>\n",
       "      <td>False</td>\n",
       "      <td>en</td>\n",
       "      <td>{'place_id': '07d9ee7b96885000'}</td>\n",
       "      <td>9.084150e+17</td>\n",
       "      <td>1.232237e+08</td>\n",
       "      <td>{'retweet_count': 2, 'reply_count': 0, 'like_c...</td>\n",
       "      <td>...</td>\n",
       "      <td>Have you already snagged this seasons ultimate...</td>\n",
       "      <td>9.084150e+17</td>\n",
       "      <td>07d9ee7b96885000</td>\n",
       "      <td>{'type': 'Feature', 'bbox': [-106.320100614742...</td>\n",
       "      <td>[-106.32010061474236, 31.67553212898165, -106....</td>\n",
       "      <td>79907.0</td>\n",
       "      <td>NaN</td>\n",
       "      <td>1</td>\n",
       "      <td>POINT (402281.41546973947 1073379.7754995143)</td>\n",
       "      <td>4.814100e+14</td>\n",
       "    </tr>\n",
       "    <tr>\n",
       "      <th>4</th>\n",
       "      <td>5</td>\n",
       "      <td>19</td>\n",
       "      <td>19</td>\n",
       "      <td>19</td>\n",
       "      <td>False</td>\n",
       "      <td>en</td>\n",
       "      <td>{'place_id': '07d9e491ce484000'}</td>\n",
       "      <td>9.083660e+17</td>\n",
       "      <td>3.011527e+09</td>\n",
       "      <td>{'retweet_count': 9, 'reply_count': 0, 'like_c...</td>\n",
       "      <td>...</td>\n",
       "      <td>Thank you @ElPasoElectric and Mr. Garcia for p...</td>\n",
       "      <td>9.083660e+17</td>\n",
       "      <td>07d9e491ce484000</td>\n",
       "      <td>{'type': 'Feature', 'bbox': [-106.291069785917...</td>\n",
       "      <td>[-106.29106978591747, 31.658059223457908, -106...</td>\n",
       "      <td>79927.0</td>\n",
       "      <td>NaN</td>\n",
       "      <td>1</td>\n",
       "      <td>POINT (404914.1335972445 1071293.0594618716)</td>\n",
       "      <td>4.814101e+14</td>\n",
       "    </tr>\n",
       "    <tr>\n",
       "      <th>...</th>\n",
       "      <td>...</td>\n",
       "      <td>...</td>\n",
       "      <td>...</td>\n",
       "      <td>...</td>\n",
       "      <td>...</td>\n",
       "      <td>...</td>\n",
       "      <td>...</td>\n",
       "      <td>...</td>\n",
       "      <td>...</td>\n",
       "      <td>...</td>\n",
       "      <td>...</td>\n",
       "      <td>...</td>\n",
       "      <td>...</td>\n",
       "      <td>...</td>\n",
       "      <td>...</td>\n",
       "      <td>...</td>\n",
       "      <td>...</td>\n",
       "      <td>...</td>\n",
       "      <td>...</td>\n",
       "      <td>...</td>\n",
       "      <td>...</td>\n",
       "    </tr>\n",
       "    <tr>\n",
       "      <th>15099</th>\n",
       "      <td>208941</td>\n",
       "      <td>210970</td>\n",
       "      <td>476</td>\n",
       "      <td>476</td>\n",
       "      <td>False</td>\n",
       "      <td>en</td>\n",
       "      <td>{'place_id': '2c0346ba4b733e24'}</td>\n",
       "      <td>9.009777e+17</td>\n",
       "      <td>4.824882e+07</td>\n",
       "      <td>{'retweet_count': 0, 'reply_count': 0, 'like_c...</td>\n",
       "      <td>...</td>\n",
       "      <td>Weather Map for Fri, Aug 25, 1:45 AM #noaaweat...</td>\n",
       "      <td>9.009777e+17</td>\n",
       "      <td>2c0346ba4b733e24</td>\n",
       "      <td>{'type': 'Feature', 'bbox': [-102.406328090222...</td>\n",
       "      <td>[-102.40632809022276, 31.85695825717272, -102....</td>\n",
       "      <td>79763.0</td>\n",
       "      <td>NaN</td>\n",
       "      <td>1</td>\n",
       "      <td>POINT (772754.1416801636 1078848.4471224227)</td>\n",
       "      <td>4.813500e+14</td>\n",
       "    </tr>\n",
       "    <tr>\n",
       "      <th>15100</th>\n",
       "      <td>208947</td>\n",
       "      <td>210976</td>\n",
       "      <td>482</td>\n",
       "      <td>482</td>\n",
       "      <td>False</td>\n",
       "      <td>en</td>\n",
       "      <td>{'place_id': '2c0346ba4b733e24'}</td>\n",
       "      <td>9.009200e+17</td>\n",
       "      <td>1.075626e+09</td>\n",
       "      <td>{'retweet_count': 0, 'reply_count': 0, 'like_c...</td>\n",
       "      <td>...</td>\n",
       "      <td>Prepare your selfs #HurricaneHarvey</td>\n",
       "      <td>9.009200e+17</td>\n",
       "      <td>2c0346ba4b733e24</td>\n",
       "      <td>{'type': 'Feature', 'bbox': [-102.382856036265...</td>\n",
       "      <td>[-102.38285603626584, 31.866271370623615, -102...</td>\n",
       "      <td>79761.0</td>\n",
       "      <td>NaN</td>\n",
       "      <td>1</td>\n",
       "      <td>POINT (774992.6175441993 1079830.777402107)</td>\n",
       "      <td>4.813500e+14</td>\n",
       "    </tr>\n",
       "    <tr>\n",
       "      <th>15101</th>\n",
       "      <td>208953</td>\n",
       "      <td>210982</td>\n",
       "      <td>488</td>\n",
       "      <td>488</td>\n",
       "      <td>False</td>\n",
       "      <td>en</td>\n",
       "      <td>{'place_id': '2c0346ba4b733e24'}</td>\n",
       "      <td>9.008913e+17</td>\n",
       "      <td>8.784023e+17</td>\n",
       "      <td>{'retweet_count': 0, 'reply_count': 0, 'like_c...</td>\n",
       "      <td>...</td>\n",
       "      <td>issa birthday girl #19 Ã°ÂÂÂÃ°ÂÂÂ</td>\n",
       "      <td>9.008913e+17</td>\n",
       "      <td>2c0346ba4b733e24</td>\n",
       "      <td>{'type': 'Feature', 'bbox': [-102.319984436035...</td>\n",
       "      <td>[-102.31998443603516, 31.882360458374023, -102...</td>\n",
       "      <td>79762.0</td>\n",
       "      <td>NaN</td>\n",
       "      <td>1</td>\n",
       "      <td>POINT (780965.8825937912 1081484.5557618828)</td>\n",
       "      <td>4.813500e+14</td>\n",
       "    </tr>\n",
       "    <tr>\n",
       "      <th>15102</th>\n",
       "      <td>208997</td>\n",
       "      <td>211026</td>\n",
       "      <td>532</td>\n",
       "      <td>532</td>\n",
       "      <td>False</td>\n",
       "      <td>en</td>\n",
       "      <td>{'place_id': '2c0346ba4b733e24'}</td>\n",
       "      <td>9.004407e+17</td>\n",
       "      <td>2.861874e+08</td>\n",
       "      <td>{'retweet_count': 0, 'reply_count': 0, 'like_c...</td>\n",
       "      <td>...</td>\n",
       "      <td>When you make yourself better by reading the W...</td>\n",
       "      <td>9.004407e+17</td>\n",
       "      <td>2c0346ba4b733e24</td>\n",
       "      <td>{'type': 'Feature', 'bbox': [-102.36033325, 31...</td>\n",
       "      <td>[-102.36033325, 31.8348011, -102.36033325, 31....</td>\n",
       "      <td>79761.0</td>\n",
       "      <td>NaN</td>\n",
       "      <td>1</td>\n",
       "      <td>POINT (777044.7740655345 1076303.6286189544)</td>\n",
       "      <td>4.813500e+14</td>\n",
       "    </tr>\n",
       "    <tr>\n",
       "      <th>15103</th>\n",
       "      <td>209002</td>\n",
       "      <td>211031</td>\n",
       "      <td>537</td>\n",
       "      <td>537</td>\n",
       "      <td>False</td>\n",
       "      <td>en</td>\n",
       "      <td>{'place_id': '2c0346ba4b733e24'}</td>\n",
       "      <td>9.004109e+17</td>\n",
       "      <td>1.115105e+09</td>\n",
       "      <td>{'retweet_count': 0, 'reply_count': 0, 'like_c...</td>\n",
       "      <td>...</td>\n",
       "      <td>#Georgia Abandonment of Personal Property: #la...</td>\n",
       "      <td>9.004109e+17</td>\n",
       "      <td>2c0346ba4b733e24</td>\n",
       "      <td>{'type': 'Feature', 'bbox': [-102.460424690537...</td>\n",
       "      <td>[-102.46042469053778, 31.839463535563684, -102...</td>\n",
       "      <td>79763.0</td>\n",
       "      <td>NaN</td>\n",
       "      <td>1</td>\n",
       "      <td>POINT (767603.2155618211 1077025.415104614)</td>\n",
       "      <td>4.813500e+14</td>\n",
       "    </tr>\n",
       "  </tbody>\n",
       "</table>\n",
       "<p>15104 rows × 27 columns</p>\n",
       "</div>"
      ],
      "text/plain": [
       "       Unnamed: 0.2  Unnamed: 0  Unnamed: 0.1  Unnamed: 0.1.1  \\\n",
       "0                 1           1             1               1   \n",
       "1                 2           2             2               2   \n",
       "2                 3           4             4               4   \n",
       "3                 4          13            13              13   \n",
       "4                 5          19            19              19   \n",
       "...             ...         ...           ...             ...   \n",
       "15099        208941      210970           476             476   \n",
       "15100        208947      210976           482             482   \n",
       "15101        208953      210982           488             488   \n",
       "15102        208997      211026           532             532   \n",
       "15103        209002      211031           537             537   \n",
       "\n",
       "       possibly_sensitive lang                               geo  \\\n",
       "0                   False   en  {'place_id': '07d9ca6de0486000'}   \n",
       "1                   False   en  {'place_id': '07d9ca6de0486000'}   \n",
       "2                   False   en  {'place_id': '07d9ca6de0486000'}   \n",
       "3                   False   en  {'place_id': '07d9ee7b96885000'}   \n",
       "4                   False   en  {'place_id': '07d9e491ce484000'}   \n",
       "...                   ...  ...                               ...   \n",
       "15099               False   en  {'place_id': '2c0346ba4b733e24'}   \n",
       "15100               False   en  {'place_id': '2c0346ba4b733e24'}   \n",
       "15101               False   en  {'place_id': '2c0346ba4b733e24'}   \n",
       "15102               False   en  {'place_id': '2c0346ba4b733e24'}   \n",
       "15103               False   en  {'place_id': '2c0346ba4b733e24'}   \n",
       "\n",
       "       conversation_id     author_id  \\\n",
       "0         9.084680e+17  2.828491e+09   \n",
       "1         9.084680e+17  2.828491e+09   \n",
       "2         9.084670e+17  2.828491e+09   \n",
       "3         9.084150e+17  1.232237e+08   \n",
       "4         9.083660e+17  3.011527e+09   \n",
       "...                ...           ...   \n",
       "15099     9.009777e+17  4.824882e+07   \n",
       "15100     9.009200e+17  1.075626e+09   \n",
       "15101     9.008913e+17  8.784023e+17   \n",
       "15102     9.004407e+17  2.861874e+08   \n",
       "15103     9.004109e+17  1.115105e+09   \n",
       "\n",
       "                                          public_metrics  ...  \\\n",
       "0      {'retweet_count': 2, 'reply_count': 0, 'like_c...  ...   \n",
       "1      {'retweet_count': 3, 'reply_count': 0, 'like_c...  ...   \n",
       "2      {'retweet_count': 1, 'reply_count': 0, 'like_c...  ...   \n",
       "3      {'retweet_count': 2, 'reply_count': 0, 'like_c...  ...   \n",
       "4      {'retweet_count': 9, 'reply_count': 0, 'like_c...  ...   \n",
       "...                                                  ...  ...   \n",
       "15099  {'retweet_count': 0, 'reply_count': 0, 'like_c...  ...   \n",
       "15100  {'retweet_count': 0, 'reply_count': 0, 'like_c...  ...   \n",
       "15101  {'retweet_count': 0, 'reply_count': 0, 'like_c...  ...   \n",
       "15102  {'retweet_count': 0, 'reply_count': 0, 'like_c...  ...   \n",
       "15103  {'retweet_count': 0, 'reply_count': 0, 'like_c...  ...   \n",
       "\n",
       "                                                    text            id  \\\n",
       "0      Family and Faculty come together to recognize ...  9.084680e+17   \n",
       "1      An awesome return of recognizing GOODER schola...  9.084680e+17   \n",
       "2      Meet Mr. Alaniz one of the GOODER additions to...  9.084670e+17   \n",
       "3      Have you already snagged this seasons ultimate...  9.084150e+17   \n",
       "4      Thank you @ElPasoElectric and Mr. Garcia for p...  9.083660e+17   \n",
       "...                                                  ...           ...   \n",
       "15099  Weather Map for Fri, Aug 25, 1:45 AM #noaaweat...  9.009777e+17   \n",
       "15100               Prepare your selfs #HurricaneHarvey   9.009200e+17   \n",
       "15101           issa birthday girl #19 Ã°ÂÂÂÃ°ÂÂÂ   9.008913e+17   \n",
       "15102  When you make yourself better by reading the W...  9.004407e+17   \n",
       "15103  #Georgia Abandonment of Personal Property: #la...  9.004109e+17   \n",
       "\n",
       "               place_id                                              place  \\\n",
       "0      07d9ca6de0486000  {'type': 'Feature', 'bbox': [-106.286140441894...   \n",
       "1      07d9ca6de0486000  {'type': 'Feature', 'bbox': [-106.286140441894...   \n",
       "2      07d9ca6de0486000  {'type': 'Feature', 'bbox': [-106.286140441894...   \n",
       "3      07d9ee7b96885000  {'type': 'Feature', 'bbox': [-106.320100614742...   \n",
       "4      07d9e491ce484000  {'type': 'Feature', 'bbox': [-106.291069785917...   \n",
       "...                 ...                                                ...   \n",
       "15099  2c0346ba4b733e24  {'type': 'Feature', 'bbox': [-102.406328090222...   \n",
       "15100  2c0346ba4b733e24  {'type': 'Feature', 'bbox': [-102.382856036265...   \n",
       "15101  2c0346ba4b733e24  {'type': 'Feature', 'bbox': [-102.319984436035...   \n",
       "15102  2c0346ba4b733e24  {'type': 'Feature', 'bbox': [-102.36033325, 31...   \n",
       "15103  2c0346ba4b733e24  {'type': 'Feature', 'bbox': [-102.460424690537...   \n",
       "\n",
       "                                              place_coor  zipcode interset  \\\n",
       "0      [-106.28614044189453, 31.637645721435547, -106...  79927.0      NaN   \n",
       "1      [-106.28614044189453, 31.637645721435547, -106...  79927.0      NaN   \n",
       "2      [-106.28614044189453, 31.637645721435547, -106...  79927.0      NaN   \n",
       "3      [-106.32010061474236, 31.67553212898165, -106....  79907.0      NaN   \n",
       "4      [-106.29106978591747, 31.658059223457908, -106...  79927.0      NaN   \n",
       "...                                                  ...      ...      ...   \n",
       "15099  [-102.40632809022276, 31.85695825717272, -102....  79763.0      NaN   \n",
       "15100  [-102.38285603626584, 31.866271370623615, -102...  79761.0      NaN   \n",
       "15101  [-102.31998443603516, 31.882360458374023, -102...  79762.0      NaN   \n",
       "15102  [-102.36033325, 31.8348011, -102.36033325, 31....  79761.0      NaN   \n",
       "15103  [-102.46042469053778, 31.839463535563684, -102...  79763.0      NaN   \n",
       "\n",
       "      is_point                                       geometry       GEOID10  \n",
       "0            1  POINT (405251.63437970506 1069011.4891847298)  4.814101e+14  \n",
       "1            1  POINT (405251.63437970506 1069011.4891847298)  4.814101e+14  \n",
       "2            1  POINT (405251.63437970506 1069011.4891847298)  4.814101e+14  \n",
       "3            1  POINT (402281.41546973947 1073379.7754995143)  4.814100e+14  \n",
       "4            1   POINT (404914.1335972445 1071293.0594618716)  4.814101e+14  \n",
       "...        ...                                            ...           ...  \n",
       "15099        1   POINT (772754.1416801636 1078848.4471224227)  4.813500e+14  \n",
       "15100        1    POINT (774992.6175441993 1079830.777402107)  4.813500e+14  \n",
       "15101        1   POINT (780965.8825937912 1081484.5557618828)  4.813500e+14  \n",
       "15102        1   POINT (777044.7740655345 1076303.6286189544)  4.813500e+14  \n",
       "15103        1    POINT (767603.2155618211 1077025.415104614)  4.813500e+14  \n",
       "\n",
       "[15104 rows x 27 columns]"
      ]
     },
     "execution_count": 16,
     "metadata": {},
     "output_type": "execute_result"
    }
   ],
   "source": [
    "tweets"
   ]
  },
  {
   "cell_type": "code",
   "execution_count": 17,
   "id": "953555ff-f2be-47c5-8a73-0650f3881c10",
   "metadata": {},
   "outputs": [
    {
     "data": {
      "text/plain": [
       "Index(['Unnamed: 0.2', 'Unnamed: 0', 'Unnamed: 0.1', 'Unnamed: 0.1.1',\n",
       "       'possibly_sensitive', 'lang', 'geo', 'conversation_id', 'author_id',\n",
       "       'public_metrics', 'preview_image_url', 'url', 'media_key', 'created_at',\n",
       "       'entities', 'reply_settings', 'context_annotations', 'text', 'id',\n",
       "       'place_id', 'place', 'place_coor', 'zipcode', 'interset', 'is_point',\n",
       "       'geometry', 'GEOID10'],\n",
       "      dtype='object')"
      ]
     },
     "execution_count": 17,
     "metadata": {},
     "output_type": "execute_result"
    }
   ],
   "source": [
    "tweets.columns"
   ]
  },
  {
   "cell_type": "code",
   "execution_count": 18,
   "id": "cce1d8c2-8121-46d0-b697-f89300622c89",
   "metadata": {},
   "outputs": [],
   "source": [
    "tweets_grouped=tweets.groupby('GEOID10')"
   ]
  },
  {
   "cell_type": "code",
   "execution_count": 19,
   "id": "1be37d52-8647-43fd-bedb-1a434d61be14",
   "metadata": {},
   "outputs": [],
   "source": [
    "tweets_ids = list(tweets_grouped.groups.keys())"
   ]
  },
  {
   "cell_type": "code",
   "execution_count": 20,
   "id": "9386350f-3aa8-46d5-a01a-812da653f9aa",
   "metadata": {},
   "outputs": [
    {
     "data": {
      "text/plain": [
       "5661"
      ]
     },
     "execution_count": 20,
     "metadata": {},
     "output_type": "execute_result"
    }
   ],
   "source": [
    "len(set(tweets_ids))"
   ]
  },
  {
   "cell_type": "code",
   "execution_count": 21,
   "id": "08915ed1-94c6-4c8c-bbf0-31de4b68e8ba",
   "metadata": {},
   "outputs": [
    {
     "data": {
      "text/plain": [
       "[480019506002020.0,\n",
       " 480019508002031.0,\n",
       " 480050004002067.0,\n",
       " 480050008003004.0,\n",
       " 480050009021018.0,\n",
       " 480050009022003.0,\n",
       " 480079501002025.0,\n",
       " 480079501003062.0,\n",
       " 480079501004024.0,\n",
       " 480079501005005.0]"
      ]
     },
     "execution_count": 21,
     "metadata": {},
     "output_type": "execute_result"
    }
   ],
   "source": [
    "tweets_ids[:10]"
   ]
  },
  {
   "cell_type": "markdown",
   "id": "c748eabf-5b7c-4f1a-8141-7afb64c618f6",
   "metadata": {},
   "source": [
    "# Match"
   ]
  },
  {
   "cell_type": "code",
   "execution_count": null,
   "id": "fbfc2ae0-b8b4-433d-88a8-8b69f0286f43",
   "metadata": {},
   "outputs": [],
   "source": []
  },
  {
   "cell_type": "code",
   "execution_count": 22,
   "id": "a5974ef3-c6c7-4caa-bf6f-ea483b514303",
   "metadata": {},
   "outputs": [
    {
     "name": "stdout",
     "output_type": "stream",
     "text": [
      "1251\n"
     ]
    }
   ],
   "source": [
    "overlap = set(FEMA_ids).intersection(set(tweets_ids))\n",
    "print(len(overlap))"
   ]
  },
  {
   "cell_type": "code",
   "execution_count": 23,
   "id": "5a579514-6f6a-4fc6-b542-774a4085ba8a",
   "metadata": {},
   "outputs": [],
   "source": [
    "import torch\n",
    "import torch.nn as nn\n",
    "import torch.nn.functional as F\n",
    "import math\n",
    "import matplotlib.pyplot as plt\n",
    "import scipy\n",
    "import numpy as np\n",
    "import statsmodels.api as sm\n",
    "from sklearn.feature_extraction.text import TfidfVectorizer,HashingVectorizer\n",
    "from sklearn.model_selection import train_test_split\n",
    "import collections"
   ]
  },
  {
   "cell_type": "markdown",
   "id": "faeac494-f073-4b43-b2d3-cbbea3777a6c",
   "metadata": {},
   "source": [
    "# different ways to vectorize the social media data"
   ]
  },
  {
   "cell_type": "markdown",
   "id": "8a418fe2-cd1d-4bb5-9964-ce3abd96d0c0",
   "metadata": {},
   "source": [
    "I changed the output dimension to get less zeros. You can change it more. "
   ]
  },
  {
   "cell_type": "code",
   "execution_count": 24,
   "id": "446e4a82-7ae3-4916-a944-66d5e9e22f44",
   "metadata": {},
   "outputs": [],
   "source": [
    "texts=[]\n",
    "ppfvls=[]\n",
    "vectorizer=HashingVectorizer(n_features=128)\n",
    "\n",
    "for ID in overlap:\n",
    "    ts=tweets_grouped.get_group(ID)['text']\n",
    "    fs=FEMA_grouped.get_group(ID)['ppfvl']\n",
    "    \n",
    "    vector = vectorizer.transform([ts.str.cat()])\n",
    "    # vector = nlp(text)\n",
    "    matrix=vector.A\n",
    "    # print(ts,fs)\n",
    "    if len(fs.dropna())==0:continue\n",
    "    texts.append(matrix[0])\n",
    "    ppfvls.append(fs.dropna())\n",
    "    # break"
   ]
  },
  {
   "cell_type": "code",
   "execution_count": 25,
   "id": "750938c2-894b-449d-bc77-1be6971a4c2e",
   "metadata": {},
   "outputs": [
    {
     "data": {
      "text/plain": [
       "12154    Donation Warehouse at 3575 Pollok Dr #Conroe N...\n",
       "12170    Hallelujah we have blue skies &amp; sun, thing...\n",
       "12201    @GeorgeTakei @DeniseDresserG How dare you talk...\n",
       "12203    One of my heroes is @BrandiKHOU who is sole-re...\n",
       "Name: text, dtype: object"
      ]
     },
     "execution_count": 25,
     "metadata": {},
     "output_type": "execute_result"
    }
   ],
   "source": [
    "ts"
   ]
  },
  {
   "cell_type": "code",
   "execution_count": 26,
   "id": "8a123fab-3aae-465b-9f76-29224affab46",
   "metadata": {},
   "outputs": [
    {
     "data": {
      "text/plain": [
       "4"
      ]
     },
     "execution_count": 26,
     "metadata": {},
     "output_type": "execute_result"
    }
   ],
   "source": [
    "len(fs.dropna())"
   ]
  },
  {
   "cell_type": "code",
   "execution_count": 27,
   "id": "ebc8a414-478f-49fc-8b6f-89788157e221",
   "metadata": {},
   "outputs": [
    {
     "data": {
      "text/plain": [
       "array([[ 0.        ,  0.21693046,  0.        ,  0.        ,  0.10846523,\n",
       "         0.        ,  0.        ,  0.        ,  0.        ,  0.        ,\n",
       "         0.        , -0.10846523,  0.10846523,  0.        ,  0.        ,\n",
       "        -0.32539569,  0.        ,  0.        ,  0.        ,  0.        ,\n",
       "         0.32539569,  0.        ,  0.        ,  0.21693046,  0.        ,\n",
       "         0.        ,  0.        ,  0.        ,  0.10846523,  0.        ,\n",
       "         0.10846523,  0.        ,  0.        , -0.10846523,  0.10846523,\n",
       "         0.        ,  0.10846523,  0.        ,  0.        ,  0.        ,\n",
       "        -0.10846523,  0.        ,  0.10846523,  0.        ,  0.21693046,\n",
       "        -0.10846523,  0.10846523,  0.10846523,  0.        ,  0.        ,\n",
       "         0.        ,  0.        , -0.21693046, -0.21693046,  0.        ,\n",
       "        -0.10846523,  0.        , -0.10846523,  0.        ,  0.        ,\n",
       "         0.        , -0.10846523,  0.10846523,  0.        ,  0.        ,\n",
       "         0.        ,  0.        ,  0.10846523,  0.        ,  0.        ,\n",
       "         0.        ,  0.        , -0.10846523,  0.10846523,  0.        ,\n",
       "         0.        ,  0.        ,  0.        ,  0.        ,  0.        ,\n",
       "         0.        ,  0.        ,  0.10846523,  0.10846523,  0.        ,\n",
       "        -0.10846523,  0.        ,  0.        ,  0.        ,  0.10846523,\n",
       "         0.        ,  0.10846523,  0.        ,  0.        ,  0.        ,\n",
       "         0.10846523,  0.10846523, -0.10846523,  0.        ,  0.10846523,\n",
       "         0.10846523,  0.10846523,  0.        ,  0.        , -0.10846523,\n",
       "         0.10846523,  0.        , -0.10846523,  0.10846523,  0.21693046,\n",
       "         0.        ,  0.        ,  0.        ,  0.10846523,  0.        ,\n",
       "         0.        ,  0.21693046,  0.        ,  0.        , -0.10846523,\n",
       "         0.        ,  0.10846523,  0.        ,  0.        ,  0.        ,\n",
       "         0.        ,  0.        ,  0.10846523]])"
      ]
     },
     "execution_count": 27,
     "metadata": {},
     "output_type": "execute_result"
    }
   ],
   "source": [
    "matrix"
   ]
  },
  {
   "cell_type": "markdown",
   "id": "9a273651-02a2-44bf-9e8a-6d6edc167d06",
   "metadata": {},
   "source": [
    "A lot of zeros after hashing. We want to improve that. "
   ]
  },
  {
   "cell_type": "code",
   "execution_count": 28,
   "id": "1f4de1ca-db31-4f74-be9f-0261069153e3",
   "metadata": {},
   "outputs": [
    {
     "name": "stdout",
     "output_type": "stream",
     "text": [
      "Number of zeros: 80\n"
     ]
    }
   ],
   "source": [
    "zero_count = np.count_nonzero(matrix == 0)\n",
    "\n",
    "# Print the count\n",
    "print(\"Number of zeros:\", zero_count)"
   ]
  },
  {
   "cell_type": "code",
   "execution_count": 29,
   "id": "e3a3d376-0c48-44fc-8fc2-f5a52f9e3cc4",
   "metadata": {},
   "outputs": [
    {
     "data": {
      "text/plain": [
       "1000"
      ]
     },
     "execution_count": 29,
     "metadata": {},
     "output_type": "execute_result"
    }
   ],
   "source": [
    "len(texts)"
   ]
  },
  {
   "cell_type": "code",
   "execution_count": null,
   "id": "700c4f92-0516-4136-a963-260bc785e6f2",
   "metadata": {},
   "outputs": [],
   "source": []
  },
  {
   "cell_type": "code",
   "execution_count": null,
   "id": "5ffc3248-bad2-493b-967e-8fe23d7110c8",
   "metadata": {},
   "outputs": [],
   "source": []
  },
  {
   "cell_type": "code",
   "execution_count": null,
   "id": "4568b4b4-9826-4c6b-abeb-c842b2c1fa01",
   "metadata": {},
   "outputs": [],
   "source": []
  },
  {
   "cell_type": "markdown",
   "id": "1b0381bc-3ca6-43f7-8a9d-76930a7549ec",
   "metadata": {},
   "source": [
    "# Prepare the data to train a model"
   ]
  },
  {
   "cell_type": "code",
   "execution_count": 30,
   "id": "4f6e6b04-f44e-4adf-afa6-4ad90f46238e",
   "metadata": {},
   "outputs": [],
   "source": [
    "damages = [p.mean() for p in ppfvls]"
   ]
  },
  {
   "cell_type": "code",
   "execution_count": 31,
   "id": "af112f8b-cb4e-453d-93ed-fda68a506dc8",
   "metadata": {},
   "outputs": [
    {
     "data": {
      "text/plain": [
       "4602577    0.0\n",
       "4653115    0.0\n",
       "5066600    0.0\n",
       "5241981    0.0\n",
       "Name: ppfvl, dtype: float64"
      ]
     },
     "execution_count": 31,
     "metadata": {},
     "output_type": "execute_result"
    }
   ],
   "source": [
    "ppfvls[5]"
   ]
  },
  {
   "cell_type": "markdown",
   "id": "b350ce55-de8c-446b-96ec-958fba90e22d",
   "metadata": {},
   "source": [
    "We do really need a data loader, but it is easier to follow the same steps for all models."
   ]
  },
  {
   "cell_type": "code",
   "execution_count": 32,
   "id": "89357d2a-3747-49db-85f4-d2dea7d323dd",
   "metadata": {},
   "outputs": [],
   "source": [
    "from torch.utils.data import DataLoader, TensorDataset,Dataset\n",
    "\n",
    "class CustomDataset(Dataset):\n",
    "    def __init__(self, data, labels):\n",
    "        self.data = data\n",
    "        self.labels = labels\n",
    "\n",
    "    def __len__(self):\n",
    "        return len(self.data)\n",
    "\n",
    "    def __getitem__(self, index):\n",
    "        x = self.data[index]\n",
    "        y = self.labels[index]\n",
    "        return x, y"
   ]
  },
  {
   "cell_type": "code",
   "execution_count": null,
   "id": "bf66c08f-1fb8-4153-80c8-3a7c21d8effe",
   "metadata": {},
   "outputs": [],
   "source": []
  },
  {
   "cell_type": "code",
   "execution_count": 33,
   "id": "63eb53fe-025b-4d26-b9fe-66412bcb1bf4",
   "metadata": {},
   "outputs": [],
   "source": [
    "import torch\n",
    "from sklearn.model_selection import train_test_split\n",
    "\n",
    "# Convert your data and labels to PyTorch tensors\n",
    "X = np.array(texts)\n",
    "y = np.array(damages)\n",
    "\n",
    "data = torch.tensor(X, dtype=torch.float32)  # Assuming X is your data\n",
    "labels = torch.tensor(y, dtype=torch.float32)  # Assuming y is your labels\n",
    "\n",
    "# Split your data into training and testing sets\n",
    "X_train, X_test, y_train, y_test = train_test_split(data, labels, test_size=0.2)\n",
    "\n",
    "# Create custom datasets for training and testing\n",
    "class CustomDataset(torch.utils.data.Dataset):\n",
    "    def __init__(self, data, labels):\n",
    "        self.data = data\n",
    "        self.labels = labels\n",
    "\n",
    "    def __len__(self):\n",
    "        return len(self.data)\n",
    "\n",
    "    def __getitem__(self, index):\n",
    "        x = self.data[index]\n",
    "        y = self.labels[index]\n",
    "        return x, y\n",
    "\n",
    "# Create instances of your custom datasets for training and testing\n",
    "train_dataset = CustomDataset(X_train, y_train)\n",
    "test_dataset = CustomDataset(X_test, y_test)\n"
   ]
  },
  {
   "cell_type": "code",
   "execution_count": 34,
   "id": "70d76d3b-e497-4f0a-ac7a-55da59ca25c6",
   "metadata": {},
   "outputs": [
    {
     "data": {
      "text/plain": [
       "(800, 200)"
      ]
     },
     "execution_count": 34,
     "metadata": {},
     "output_type": "execute_result"
    }
   ],
   "source": [
    "len(train_dataset),len(test_dataset)"
   ]
  },
  {
   "cell_type": "code",
   "execution_count": 35,
   "id": "5337b6c2-10c9-4082-92f1-8ded039e07bb",
   "metadata": {},
   "outputs": [
    {
     "data": {
      "text/plain": [
       "(torch.Size([800]), torch.Size([200]))"
      ]
     },
     "execution_count": 35,
     "metadata": {},
     "output_type": "execute_result"
    }
   ],
   "source": [
    "y_train.shape,y_test.shape"
   ]
  },
  {
   "cell_type": "code",
   "execution_count": 36,
   "id": "fe1464e7-86b8-489c-b3ab-19669c07cd33",
   "metadata": {},
   "outputs": [],
   "source": [
    "batch_size = 512  # You can adjust the batch size as needed\n",
    "\n",
    "train_loader = DataLoader(train_dataset, batch_size=batch_size, shuffle=True)\n",
    "test_loader = DataLoader(test_dataset, batch_size=batch_size, shuffle=False)"
   ]
  },
  {
   "cell_type": "code",
   "execution_count": 37,
   "id": "45314c27-42ec-48b2-925c-1dab0a2a062e",
   "metadata": {},
   "outputs": [],
   "source": [
    "for batch in train_loader:\n",
    "    inputs, targets = batch\n",
    "    break"
   ]
  },
  {
   "cell_type": "code",
   "execution_count": 38,
   "id": "b51e1bfa-8ab6-48ab-b42d-358b6f1ee28e",
   "metadata": {},
   "outputs": [
    {
     "data": {
      "text/plain": [
       "(array([  3,  17,  22,  23,  25,  30,  38,  43,  52,  56,  69,  78,  86,\n",
       "         90,  94,  96, 109, 116, 125], dtype=int64),)"
      ]
     },
     "execution_count": 38,
     "metadata": {},
     "output_type": "execute_result"
    }
   ],
   "source": [
    "np.where(inputs[0] != 0)"
   ]
  },
  {
   "cell_type": "code",
   "execution_count": 39,
   "id": "52dceef9-5a4b-4d22-8673-4c8f58144faa",
   "metadata": {},
   "outputs": [
    {
     "data": {
      "text/plain": [
       "tensor([ 0.0000,  0.0000,  0.0000,  0.2000,  0.0000,  0.0000,  0.0000,  0.0000,\n",
       "         0.0000,  0.0000,  0.0000,  0.0000,  0.0000,  0.0000,  0.0000,  0.0000,\n",
       "         0.0000,  0.4000,  0.0000,  0.0000,  0.0000,  0.0000,  0.2000, -0.2000,\n",
       "         0.0000,  0.2000,  0.0000,  0.0000,  0.0000,  0.0000, -0.2000,  0.0000,\n",
       "         0.0000,  0.0000,  0.0000,  0.0000,  0.0000,  0.0000, -0.2000,  0.0000,\n",
       "         0.0000,  0.0000,  0.0000,  0.2000,  0.0000,  0.0000,  0.0000,  0.0000,\n",
       "         0.0000,  0.0000,  0.0000,  0.0000,  0.2000,  0.0000,  0.0000,  0.0000,\n",
       "        -0.2000,  0.0000,  0.0000,  0.0000,  0.0000,  0.0000,  0.0000,  0.0000,\n",
       "         0.0000,  0.0000,  0.0000,  0.0000,  0.0000,  0.2000,  0.0000,  0.0000,\n",
       "         0.0000,  0.0000,  0.0000,  0.0000,  0.0000,  0.0000,  0.2000,  0.0000,\n",
       "         0.0000,  0.0000,  0.0000,  0.0000,  0.0000,  0.0000,  0.2000,  0.0000,\n",
       "         0.0000,  0.0000,  0.2000,  0.0000,  0.0000,  0.0000,  0.2000,  0.0000,\n",
       "         0.2000,  0.0000,  0.0000,  0.0000,  0.0000,  0.0000,  0.0000,  0.0000,\n",
       "         0.0000,  0.0000,  0.0000,  0.0000,  0.0000,  0.2000,  0.0000,  0.0000,\n",
       "         0.0000,  0.0000,  0.0000,  0.0000,  0.4000,  0.0000,  0.0000,  0.0000,\n",
       "         0.0000,  0.0000,  0.0000,  0.0000,  0.0000, -0.2000,  0.0000,  0.0000])"
      ]
     },
     "execution_count": 39,
     "metadata": {},
     "output_type": "execute_result"
    }
   ],
   "source": [
    "inputs[0]"
   ]
  },
  {
   "cell_type": "code",
   "execution_count": 40,
   "id": "a2d43df2-6345-48b3-9120-96bb0bfcdfd0",
   "metadata": {},
   "outputs": [
    {
     "data": {
      "text/plain": [
       "torch.Size([512, 128])"
      ]
     },
     "execution_count": 40,
     "metadata": {},
     "output_type": "execute_result"
    }
   ],
   "source": [
    "inputs.shape"
   ]
  },
  {
   "cell_type": "code",
   "execution_count": 41,
   "id": "2d5536ef-89ca-4188-bf30-4a409d2acba7",
   "metadata": {},
   "outputs": [
    {
     "data": {
      "text/plain": [
       "torch.Size([512, 1])"
      ]
     },
     "execution_count": 41,
     "metadata": {},
     "output_type": "execute_result"
    }
   ],
   "source": [
    "targets.view(-1, 1).shape"
   ]
  },
  {
   "cell_type": "code",
   "execution_count": null,
   "id": "3fb94fd4-a2f3-4e81-9086-d7f2c7165499",
   "metadata": {},
   "outputs": [],
   "source": []
  },
  {
   "cell_type": "markdown",
   "id": "5e88ac9d-331c-4974-832e-c4a6a804e599",
   "metadata": {},
   "source": [
    "# Build a model"
   ]
  },
  {
   "cell_type": "code",
   "execution_count": 42,
   "id": "6fdeccd6-15ae-4d10-9b85-54a90a158f12",
   "metadata": {},
   "outputs": [],
   "source": [
    "import torch\n",
    "import torch.nn as nn\n",
    "device='cpu'\n",
    "class CustomNet(nn.Module):\n",
    "\n",
    "    def __init__(self):\n",
    "        super(CustomNet, self).__init__()\n",
    "        # self.fc1 = nn.Linear(1024, 512)\n",
    "        # self.fc2 = nn.Linear(512, 256)\n",
    "        # self.fc3 = nn.Linear(256, 128)\n",
    "        # self.bn1 = nn.BatchNorm1d(512)  # Batch normalization after the first linear layer\n",
    "        self.fc4 = nn.Linear(128, 64)\n",
    "        self.fc5 = nn.Linear(64, 1)\n",
    "\n",
    "        # self.bn2 = nn.BatchNorm1d(1)  # Batch normalization after the second linear layer\n",
    "    def forward(self, x):\n",
    "        \n",
    "        # x = torch.relu(self.fc1(x))\n",
    "        # x = torch.relu(self.fc2(x))\n",
    "        # x = torch.relu(self.fc3(x))\n",
    "        x = torch.relu(self.fc4(x))\n",
    "        x = torch.relu(self.fc5(x))\n",
    "        return x\n"
   ]
  },
  {
   "cell_type": "code",
   "execution_count": null,
   "id": "1077487c-3274-4401-830c-5286b61fbda1",
   "metadata": {},
   "outputs": [],
   "source": []
  },
  {
   "cell_type": "code",
   "execution_count": null,
   "id": "d43f2ba2-0922-4725-a73d-17831a4b686b",
   "metadata": {},
   "outputs": [],
   "source": []
  },
  {
   "cell_type": "code",
   "execution_count": 43,
   "id": "fbdb9946-d2b8-420c-a63b-50bbc533de9a",
   "metadata": {},
   "outputs": [
    {
     "name": "stdout",
     "output_type": "stream",
     "text": [
      "Training complete\n"
     ]
    }
   ],
   "source": [
    "history={'train':[],'test':[]}\n",
    "\n",
    "model = CustomNet().to(device)\n",
    "optimizer = torch.optim.SGD(model.parameters(), lr=0.0001)\n",
    "criterion = nn.MSELoss().to(device)\n",
    "\n",
    "num_epochs = 9000\n",
    "for epoch in range(num_epochs):\n",
    "    model.train()\n",
    "    running_loss = 0.0\n",
    "    for batch in train_loader:\n",
    "        inputs, labels = batch\n",
    "        optimizer.zero_grad()\n",
    "        outputs = model(inputs)\n",
    "        loss = criterion(outputs, labels.view(-1, 1))\n",
    "        # print(loss)\n",
    "        running_loss += loss.item()\n",
    "        \n",
    "        loss.backward()\n",
    "        optimizer.step()\n",
    "        \n",
    "    # print(f\"Epoch {epoch + 1}, Loss: {running_loss/(len(inputs)+0.001)}\")\n",
    "    history['train'].append(running_loss/(len(inputs)+0.001))\n",
    "    \n",
    "    # if test_loss>train_loss:\n",
    "    #     counter+=1\n",
    "    # if counter >= patience:\n",
    "    #     early_stop = True\n",
    "    # if early_stop:\n",
    "    #     torch.save(model.state_dict(), 'test.pth')\n",
    "    #     break\n",
    "\n",
    "print(\"Training complete\")\n"
   ]
  },
  {
   "cell_type": "code",
   "execution_count": 44,
   "id": "d55f1cd7-72b9-45ea-aa03-b445ef74fa29",
   "metadata": {},
   "outputs": [
    {
     "data": {
      "text/plain": [
       "Text(0, 0.5, 'MSE')"
      ]
     },
     "execution_count": 44,
     "metadata": {},
     "output_type": "execute_result"
    },
    {
     "data": {
      "image/png": "[encoded data removed]",
      "text/plain": [
       "<Figure size 1920x1440 with 1 Axes>"
      ]
     },
     "metadata": {},
     "output_type": "display_data"
    }
   ],
   "source": [
    "plt.figure(dpi=300)\n",
    "plt.title('Neural Network Training Behavior')\n",
    "plt.plot(history['train'],label='Train')\n",
    "# plt.plot(history['test'],label='Validation')\n",
    "plt.legend()\n",
    "plt.xlabel('Epoch')\n",
    "plt.ylabel('MSE')\n",
    "# plt.savefig('Training2.png')"
   ]
  },
  {
   "cell_type": "markdown",
   "id": "a776a727-b475-4593-9805-e0cb2d0b01ed",
   "metadata": {},
   "source": [
    "# Test the model"
   ]
  },
  {
   "cell_type": "markdown",
   "id": "8e135d3e-03ba-432d-b141-13ce1aa1f7ef",
   "metadata": {},
   "source": [
    "Plot the y_pred and y_true on testing data"
   ]
  },
  {
   "cell_type": "code",
   "execution_count": 45,
   "id": "7e4dbb00-2387-45ae-96b5-b01a55fe905f",
   "metadata": {},
   "outputs": [],
   "source": [
    "y_pred=[]\n",
    "y_true=[]\n",
    "\n",
    "for batch in test_loader:\n",
    "    inputs, labels = batch\n",
    "    \n",
    "    outputs = model(inputs)\n",
    "    y_pred.append(outputs.detach().numpy())\n",
    "    y_true.append(labels.detach().numpy())\n",
    "    \n",
    "y_pred = np.concatenate(y_pred)\n",
    "y_true = np.concatenate(y_true)"
   ]
  },
  {
   "cell_type": "code",
   "execution_count": null,
   "id": "8b64e157-b3e7-4ba1-bae6-6c08ead8c045",
   "metadata": {},
   "outputs": [],
   "source": []
  },
  {
   "cell_type": "code",
   "execution_count": 46,
   "id": "ce60122a-5a2c-4924-91ae-3fb1cf854204",
   "metadata": {},
   "outputs": [
    {
     "data": {
      "text/plain": [
       "(200, 1)"
      ]
     },
     "execution_count": 46,
     "metadata": {},
     "output_type": "execute_result"
    }
   ],
   "source": [
    "y_pred.shape"
   ]
  },
  {
   "cell_type": "code",
   "execution_count": 47,
   "id": "f832c0ee-0af9-4228-95e5-1f4cb5fc1683",
   "metadata": {},
   "outputs": [
    {
     "data": {
      "text/plain": [
       "(200,)"
      ]
     },
     "execution_count": 47,
     "metadata": {},
     "output_type": "execute_result"
    }
   ],
   "source": [
    "y_true.shape"
   ]
  },
  {
   "cell_type": "markdown",
   "id": "8228efb5-2884-45cc-91ec-d69ab2cc5b6f",
   "metadata": {},
   "source": [
    "We should see the prediction and ground truth align along the diagnal line if the model is perfect."
   ]
  },
  {
   "cell_type": "code",
   "execution_count": 55,
   "id": "745c034b-a996-4d6d-9b08-a9d7b58c4ed2",
   "metadata": {},
   "outputs": [
    {
     "data": {
      "image/png": "[encoded data removed]",
      "text/plain": [
       "<Figure size 1920x1440 with 1 Axes>"
      ]
     },
     "metadata": {},
     "output_type": "display_data"
    }
   ],
   "source": [
    "plt.figure(dpi=300)\n",
    "plt.axes(aspect='equal')\n",
    "plt.title('Damage ($) Estimation Comparison')\n",
    "# for pre,gt in zip (y_pred,y_true):\n",
    "#     # mae=mean_squared_error(pre,gt)\n",
    "#     p = 1- mae/np.mean(gt)\n",
    "    \n",
    "plt.scatter(y_pred,y_true)\n",
    "plt.xlabel('Prediction')\n",
    "plt.ylabel('Ground Truth')\n",
    "# plt.legend()\n",
    "lims = [-100, 7000]\n",
    "plt.xlim(lims)\n",
    "plt.ylim(lims)\n",
    "_ = plt.plot(lims, lims)\n",
    "# plt.savefig('Damage Estimation Accuracy2.png')"
   ]
  },
  {
   "cell_type": "code",
   "execution_count": null,
   "id": "78b2f4b3-4316-4abd-b1fb-1c22346e6204",
   "metadata": {},
   "outputs": [],
   "source": []
  },
  {
   "cell_type": "code",
   "execution_count": 56,
   "id": "7c6f23ad-823f-4cca-ba42-b14d3a495b8f",
   "metadata": {},
   "outputs": [],
   "source": [
    "errors=[]\n",
    "for pred, gt in zip (y_pred,y_true):\n",
    "    error=pred-gt\n",
    "    errors.append(error)"
   ]
  },
  {
   "cell_type": "code",
   "execution_count": 57,
   "id": "9662efca-31a4-4cd8-b742-9ce4c6a29352",
   "metadata": {},
   "outputs": [
    {
     "data": {
      "text/plain": [
       "144.0455"
      ]
     },
     "execution_count": 57,
     "metadata": {},
     "output_type": "execute_result"
    }
   ],
   "source": [
    "np.array(errors).mean()"
   ]
  },
  {
   "cell_type": "code",
   "execution_count": 58,
   "id": "9e35752f-3f46-4a40-9d67-c358c3b169a7",
   "metadata": {},
   "outputs": [
    {
     "data": {
      "text/plain": [
       "[<matplotlib.lines.Line2D at 0x1abb475d1f0>]"
      ]
     },
     "execution_count": 58,
     "metadata": {},
     "output_type": "execute_result"
    },
    {
     "data": {
      "image/png": "[encoded data removed]",
      "text/plain": [
       "<Figure size 640x480 with 1 Axes>"
      ]
     },
     "metadata": {},
     "output_type": "display_data"
    }
   ],
   "source": [
    "plt.plot(errors)"
   ]
  },
  {
   "cell_type": "code",
   "execution_count": 59,
   "id": "552fe61c-533a-417c-9593-1383a952ad22",
   "metadata": {},
   "outputs": [
    {
     "data": {
      "text/plain": [
       "[array([1342.4479], dtype=float32),\n",
       " array([24.97586], dtype=float32),\n",
       " array([1473.7395], dtype=float32),\n",
       " array([0.], dtype=float32),\n",
       " array([112.14204], dtype=float32),\n",
       " array([-660.6691], dtype=float32),\n",
       " array([-177.26445], dtype=float32),\n",
       " array([-774.8264], dtype=float32),\n",
       " array([-215.00647], dtype=float32),\n",
       " array([474.36844], dtype=float32),\n",
       " array([-670.69666], dtype=float32),\n",
       " array([57.908497], dtype=float32),\n",
       " array([768.181], dtype=float32),\n",
       " array([-6.8958335], dtype=float32),\n",
       " array([0.], dtype=float32),\n",
       " array([0.], dtype=float32),\n",
       " array([0.], dtype=float32),\n",
       " array([1714.0756], dtype=float32),\n",
       " array([-3325.07], dtype=float32),\n",
       " array([0.], dtype=float32),\n",
       " array([1968.1735], dtype=float32),\n",
       " array([-113.19], dtype=float32),\n",
       " array([1185.9587], dtype=float32),\n",
       " array([0.], dtype=float32),\n",
       " array([-1368.3846], dtype=float32),\n",
       " array([1783.2885], dtype=float32),\n",
       " array([-1408.6412], dtype=float32),\n",
       " array([2542.6335], dtype=float32),\n",
       " array([509.01138], dtype=float32),\n",
       " array([1056.412], dtype=float32),\n",
       " array([432.251], dtype=float32),\n",
       " array([1501.3083], dtype=float32),\n",
       " array([989.2882], dtype=float32),\n",
       " array([21.912025], dtype=float32),\n",
       " array([931.0348], dtype=float32),\n",
       " array([189.99333], dtype=float32),\n",
       " array([537.34686], dtype=float32),\n",
       " array([0.], dtype=float32),\n",
       " array([360.1379], dtype=float32),\n",
       " array([-48.18872], dtype=float32),\n",
       " array([43.40189], dtype=float32),\n",
       " array([-139.935], dtype=float32),\n",
       " array([932.92786], dtype=float32),\n",
       " array([578.342], dtype=float32),\n",
       " array([0.], dtype=float32),\n",
       " array([0.], dtype=float32),\n",
       " array([569.373], dtype=float32),\n",
       " array([-3946.82], dtype=float32),\n",
       " array([-1060.8983], dtype=float32),\n",
       " array([-56.055626], dtype=float32),\n",
       " array([1683.393], dtype=float32),\n",
       " array([-124.12162], dtype=float32),\n",
       " array([-142.3256], dtype=float32),\n",
       " array([-10.999333], dtype=float32),\n",
       " array([360.73904], dtype=float32),\n",
       " array([732.8215], dtype=float32),\n",
       " array([223.58908], dtype=float32),\n",
       " array([1298.8954], dtype=float32),\n",
       " array([0.], dtype=float32),\n",
       " array([-2963.4902], dtype=float32),\n",
       " array([-3031.9482], dtype=float32),\n",
       " array([0.], dtype=float32),\n",
       " array([1270.0953], dtype=float32),\n",
       " array([0.], dtype=float32),\n",
       " array([492.4951], dtype=float32),\n",
       " array([-376.95862], dtype=float32),\n",
       " array([-166.98074], dtype=float32),\n",
       " array([186.55109], dtype=float32),\n",
       " array([-5.706897], dtype=float32),\n",
       " array([0.], dtype=float32),\n",
       " array([0.], dtype=float32),\n",
       " array([0.], dtype=float32),\n",
       " array([107.95362], dtype=float32),\n",
       " array([523.8235], dtype=float32),\n",
       " array([-6953.2715], dtype=float32),\n",
       " array([-2.2057352], dtype=float32),\n",
       " array([455.01886], dtype=float32),\n",
       " array([-85.32], dtype=float32),\n",
       " array([6708.1978], dtype=float32),\n",
       " array([-162.56909], dtype=float32),\n",
       " array([3104.7598], dtype=float32),\n",
       " array([0.], dtype=float32),\n",
       " array([492.0558], dtype=float32),\n",
       " array([1068.572], dtype=float32),\n",
       " array([10971.825], dtype=float32),\n",
       " array([521.4526], dtype=float32),\n",
       " array([-3194.7188], dtype=float32),\n",
       " array([1053.3489], dtype=float32),\n",
       " array([1529.5743], dtype=float32),\n",
       " array([470.30228], dtype=float32),\n",
       " array([456.5002], dtype=float32),\n",
       " array([0.], dtype=float32),\n",
       " array([-56.485264], dtype=float32),\n",
       " array([-122.24625], dtype=float32),\n",
       " array([-260.9232], dtype=float32),\n",
       " array([0.], dtype=float32),\n",
       " array([-84.51517], dtype=float32),\n",
       " array([-273.78375], dtype=float32),\n",
       " array([3620.3792], dtype=float32),\n",
       " array([1151.4512], dtype=float32),\n",
       " array([486.87238], dtype=float32),\n",
       " array([1013.13074], dtype=float32),\n",
       " array([-1290.1848], dtype=float32),\n",
       " array([-119.14844], dtype=float32),\n",
       " array([-2027.5063], dtype=float32),\n",
       " array([1907.5945], dtype=float32),\n",
       " array([0.], dtype=float32),\n",
       " array([-112.213425], dtype=float32),\n",
       " array([-4483.846], dtype=float32),\n",
       " array([1422.6932], dtype=float32),\n",
       " array([0.], dtype=float32),\n",
       " array([0.], dtype=float32),\n",
       " array([0.], dtype=float32),\n",
       " array([651.5489], dtype=float32),\n",
       " array([0.], dtype=float32),\n",
       " array([0.], dtype=float32),\n",
       " array([0.], dtype=float32),\n",
       " array([2819.8752], dtype=float32),\n",
       " array([678.923], dtype=float32),\n",
       " array([45.5391], dtype=float32),\n",
       " array([0.], dtype=float32),\n",
       " array([-5806.12], dtype=float32),\n",
       " array([-2557.623], dtype=float32),\n",
       " array([0.], dtype=float32),\n",
       " array([2915.5645], dtype=float32),\n",
       " array([0.], dtype=float32),\n",
       " array([0.], dtype=float32),\n",
       " array([0.], dtype=float32),\n",
       " array([0.], dtype=float32),\n",
       " array([0.], dtype=float32),\n",
       " array([-171.81667], dtype=float32),\n",
       " array([372.0446], dtype=float32),\n",
       " array([0.], dtype=float32),\n",
       " array([4772.153], dtype=float32),\n",
       " array([0.], dtype=float32),\n",
       " array([-238.56073], dtype=float32),\n",
       " array([-89.34413], dtype=float32),\n",
       " array([-1497.8085], dtype=float32),\n",
       " array([0.], dtype=float32),\n",
       " array([-75.92316], dtype=float32),\n",
       " array([1470.0374], dtype=float32),\n",
       " array([0.], dtype=float32),\n",
       " array([0.], dtype=float32),\n",
       " array([1168.451], dtype=float32),\n",
       " array([743.4559], dtype=float32),\n",
       " array([5697.8677], dtype=float32),\n",
       " array([865.3829], dtype=float32),\n",
       " array([0.], dtype=float32),\n",
       " array([2148.633], dtype=float32),\n",
       " array([176.02608], dtype=float32),\n",
       " array([0.], dtype=float32),\n",
       " array([602.9448], dtype=float32),\n",
       " array([0.], dtype=float32),\n",
       " array([-541.02435], dtype=float32),\n",
       " array([-229.09273], dtype=float32),\n",
       " array([-668.931], dtype=float32),\n",
       " array([0.], dtype=float32),\n",
       " array([989.17786], dtype=float32),\n",
       " array([-2012.1243], dtype=float32),\n",
       " array([-54.520233], dtype=float32),\n",
       " array([117.26206], dtype=float32),\n",
       " array([0.], dtype=float32),\n",
       " array([605.5024], dtype=float32),\n",
       " array([530.64294], dtype=float32),\n",
       " array([67.33569], dtype=float32),\n",
       " array([25.889137], dtype=float32),\n",
       " array([0.], dtype=float32),\n",
       " array([1165.5176], dtype=float32),\n",
       " array([0.], dtype=float32),\n",
       " array([0.], dtype=float32),\n",
       " array([0.], dtype=float32),\n",
       " array([76.77349], dtype=float32),\n",
       " array([0.], dtype=float32),\n",
       " array([-2178.7776], dtype=float32),\n",
       " array([0.], dtype=float32),\n",
       " array([-3.2945], dtype=float32),\n",
       " array([-2532.177], dtype=float32),\n",
       " array([-2150.2488], dtype=float32),\n",
       " array([0.], dtype=float32),\n",
       " array([8.249226], dtype=float32),\n",
       " array([0.], dtype=float32),\n",
       " array([1393.1418], dtype=float32),\n",
       " array([0.], dtype=float32),\n",
       " array([-1509.32], dtype=float32),\n",
       " array([274.93393], dtype=float32),\n",
       " array([0.], dtype=float32),\n",
       " array([421.59457], dtype=float32),\n",
       " array([0.], dtype=float32),\n",
       " array([-3894.4216], dtype=float32),\n",
       " array([-1298.8004], dtype=float32),\n",
       " array([0.], dtype=float32),\n",
       " array([-62.392666], dtype=float32),\n",
       " array([-664.26276], dtype=float32),\n",
       " array([2031.1871], dtype=float32),\n",
       " array([213.85942], dtype=float32),\n",
       " array([433.43628], dtype=float32),\n",
       " array([-3309.8745], dtype=float32),\n",
       " array([1481.9027], dtype=float32),\n",
       " array([0.], dtype=float32),\n",
       " array([0.], dtype=float32)]"
      ]
     },
     "execution_count": 59,
     "metadata": {},
     "output_type": "execute_result"
    }
   ],
   "source": [
    "errors"
   ]
  },
  {
   "cell_type": "code",
   "execution_count": null,
   "id": "17d89a4b-7d71-47cd-870e-3995bb41240f",
   "metadata": {},
   "outputs": [],
   "source": []
  },
  {
   "cell_type": "code",
   "execution_count": 53,
   "id": "52122ba5-8dba-4983-a91e-076a36cad3b8",
   "metadata": {},
   "outputs": [
    {
     "data": {
      "text/plain": [
       "-7200.0"
      ]
     },
     "execution_count": 53,
     "metadata": {},
     "output_type": "execute_result"
    }
   ],
   "source": [
    "(y_pred-y_true).min()"
   ]
  },
  {
   "cell_type": "code",
   "execution_count": null,
   "id": "91fa844f-1f6c-4edf-a5ba-5cfdefbc7ab5",
   "metadata": {},
   "outputs": [],
   "source": []
  }
 ],
 "metadata": {
  "kernelspec": {
   "display_name": "Python 3 (ipykernel)",
   "language": "python",
   "name": "python3"
  },
  "language_info": {
   "codemirror_mode": {
    "name": "ipython",
    "version": 3
   },
   "file_extension": ".py",
   "mimetype": "text/x-python",
   "name": "python",
   "nbconvert_exporter": "python",
   "pygments_lexer": "ipython3",
   "version": "3.8.17"
  }
 },
 "nbformat": 4,
 "nbformat_minor": 5
}
